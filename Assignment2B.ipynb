{
 "cells": [
  {
   "cell_type": "markdown",
   "metadata": {},
   "source": [
    "###### Assessment"
   ]
  },
  {
   "cell_type": "markdown",
   "metadata": {},
   "source": [
    "###### I am going to provide two .csv files , you are supposed to work on them and have to provide solutions to the following problems"
   ]
  },
  {
   "cell_type": "markdown",
   "metadata": {},
   "source": [
    "###### import necessary libraries"
   ]
  },
  {
   "cell_type": "code",
   "execution_count": null,
   "metadata": {},
   "outputs": [],
   "source": [
    "import pandas as pd"
   ]
  },
  {
   "cell_type": "markdown",
   "metadata": {},
   "source": [
    "###### merge those two csv files (after getting as dataframes, get them as a single dataframe)"
   ]
  },
  {
   "cell_type": "code",
   "execution_count": 82,
   "metadata": {},
   "outputs": [
    {
     "name": "stdout",
     "output_type": "stream",
     "text": [
      "                      Name  python  python_en  mysql  computational_thinking  \\\n",
      "0            ASHOK KUMAR K     100          0     31                       9   \n",
      "1                  Chandru       0         20      0                       0   \n",
      "2        Ganesh Ramkumar R      -1         55     24                       6   \n",
      "3          Bodipudi Harini      -1          0     35                      -1   \n",
      "4                VIINU V P      -1        100     24                      -1   \n",
      "5               Poojitha Y       0         78     35                       0   \n",
      "6   Gowtham Chandrasekaran      -1          0      0                       3   \n",
      "7                Gowtham R      -1         60      4                       6   \n",
      "8                 shifak N      58          0      0                       0   \n",
      "9                  Balaji       -1        100     20                       0   \n",
      "10                Rushitha      -1         15     62                       9   \n",
      "11    Balaraman Muthupandi      -1          9      0                       0   \n",
      "12                JPradhap     100          0      0                       0   \n",
      "13           SRIRAMKUMAR B      -1          0      0                       0   \n",
      "14               Praneetha      -1         23    100                      -1   \n",
      "15             Rahul Raj K      -1          0      0                       0   \n",
      "16                 Guhan S      -1         72     35                      39   \n",
      "17            Suryarajan S      -1         63     31                       0   \n",
      "18          Narasimhan Y L      -1         -1      0                       0   \n",
      "19            Leelakrishna      -1          6      4                       0   \n",
      "20          PremsagarReddy      -1         20      0                       0   \n",
      "21               pradeeban      16         20     24                       0   \n",
      "22             santhoshini      -1         43      0                       0   \n",
      "23              MUKESH S M      -1         46      0                       0   \n",
      "24           P.GOVARDHANAN      -1         40      0                      -1   \n",
      "25            SHAIK DANISH      -1         43      0                       0   \n",
      "26               sridhar.s      -1         52      0                       0   \n",
      "27       Vimalesh Fernando      -1          0      0                       0   \n",
      "28           M.Karthikeyan      -1          0      4                       6   \n",
      "29               Abishak s      -1         55     35                       6   \n",
      "30           praveen raj j      24         -1      0                       0   \n",
      "31              AMARNATH D      -1         52     12                      -1   \n",
      "32                    bala      32         49      0                      -1   \n",
      "33                    XY Z      -1         20     -1                      -1   \n",
      "34               Hariharan      -1         -1     -1                       0   \n",
      "\n",
      "    Previous Geekions  CodeKata Score  \\\n",
      "0               19400           19400   \n",
      "1               14150           14490   \n",
      "2                8790           10790   \n",
      "3               10040           10040   \n",
      "4                9150            9150   \n",
      "5                7210            8970   \n",
      "6                7250            8950   \n",
      "7                8650            8650   \n",
      "8                5180            8320   \n",
      "9                6170            8160   \n",
      "10               7470            8090   \n",
      "11               7670            8050   \n",
      "12               7340            8030   \n",
      "13               6400            7940   \n",
      "14               7170            7730   \n",
      "15               6280            7640   \n",
      "16               7310            7630   \n",
      "17               6710            7550   \n",
      "18               4800            6800   \n",
      "19               5300            6640   \n",
      "20               5290            6290   \n",
      "21               6060            6090   \n",
      "22               3910            5740   \n",
      "23               5200            5200   \n",
      "24               5050            5050   \n",
      "25               4050            4820   \n",
      "26               3860            4440   \n",
      "27               4170            4170   \n",
      "28               4020            4020   \n",
      "29               3220            3220   \n",
      "30               2380            2380   \n",
      "31               1890            1890   \n",
      "32               1720            1720   \n",
      "33                  0               0   \n",
      "34                  0               0   \n",
      "\n",
      "                                   Department  Rising  \n",
      "0      Electronics and Electrical Engineering       0  \n",
      "1            Computer Science and Engineering     340  \n",
      "2            Computer Science and Engineering    2000  \n",
      "3   Electronics and Communication Engineering       0  \n",
      "4      Electronics and Electrical Engineering       0  \n",
      "5            Computer Science and Engineering    1760  \n",
      "6            Computer Science and Engineering    1700  \n",
      "7   Electronics and Communication Engineering       0  \n",
      "8      Electronics and Electrical Engineering    3140  \n",
      "9      Electronics and Electrical Engineering    1990  \n",
      "10           Computer Science and Engineering     620  \n",
      "11           Computer Science and Engineering     380  \n",
      "12     Electronics and Electrical Engineering     690  \n",
      "13           Computer Science and Engineering    1540  \n",
      "14  Electronics and Communication Engineering     560  \n",
      "15           Computer Science and Engineering    1360  \n",
      "16  Electronics and Communication Engineering     320  \n",
      "17           Computer Science and Engineering     840  \n",
      "18           Computer Science and Engineering    2000  \n",
      "19           Computer Science and Engineering    1340  \n",
      "20           Computer Science and Engineering    1000  \n",
      "21           Computer Science and Engineering      30  \n",
      "22           Computer Science and Engineering    1830  \n",
      "23           Computer Science and Engineering       0  \n",
      "24  Electronics and Communication Engineering       0  \n",
      "25           Computer Science and Engineering     770  \n",
      "26           Computer Science and Engineering     580  \n",
      "27           Computer Science and Engineering       0  \n",
      "28           Computer Science and Engineering       0  \n",
      "29  Electronics and Communication Engineering       0  \n",
      "30           Computer Science and Engineering       0  \n",
      "31  Electronics and Communication Engineering       0  \n",
      "32  Electronics and Communication Engineering       0  \n",
      "33           Computer Science and Engineering       0  \n",
      "34           Computer Science and Engineering       0  \n",
      "          Name  python  mysql  Previous Geekions  CodeKata Score  \\\n",
      "0    A.Dharani    82.0   20.0              24500           24500   \n",
      "1  V.JEEVITHA     82.0   20.0              21740           21740   \n",
      "2  HEMAVATHI.R   100.0  100.0              19680           19680   \n",
      "3  Mugunthan S   100.0   47.0              10610           10610   \n",
      "4  Sathammai.S   100.0    8.0               8980            8980   \n",
      "\n",
      "                         Department  Rising  python_en  computational_thinking  \n",
      "0  Computer Science and Engineering       0        NaN                     NaN  \n",
      "1  Computer Science and Engineering       0        NaN                     NaN  \n",
      "2  Computer Science and Engineering       0        NaN                     NaN  \n",
      "3  Computer Science and Engineering       0        NaN                     NaN  \n",
      "4  Computer Science and Engineering       0        NaN                     NaN  \n"
     ]
    }
   ],
   "source": [
    "import pandas as pd\n",
    "import numpy as np\n",
    "N=10\n",
    "df1 =  pd.read_csv(\"college_1.csv\")\n",
    "df2 =  pd.read_csv(\"college_2.csv\")\n",
    "newdf = pd.concat([df1, df2],ignore_index=True)\n",
    "#print(df1)\n",
    "#print(df2)\n",
    "print(newdf.head())\n"
   ]
  },
  {
   "cell_type": "markdown",
   "metadata": {},
   "source": [
    "###### Take each csv file , split that csv file into multiple categories (example csv files are added in the repo) \n"
   ]
  },
  {
   "cell_type": "markdown",
   "metadata": {},
   "source": [
    "###### consider if the codekata score exceeds 15000 points(present week) then make a csv on those observations as Exceeded expectations.csv\n"
   ]
  },
  {
   "cell_type": "markdown",
   "metadata": {},
   "source": [
    "###### if  10000<codekata score<15000   (Reached_expectations.csv)\n",
    "\n"
   ]
  },
  {
   "cell_type": "markdown",
   "metadata": {},
   "source": [
    "###### if  7000<codekata score<10000   (Needs_Improvement.csv)\n"
   ]
  },
  {
   "cell_type": "markdown",
   "metadata": {},
   "source": [
    "###### if  codekate score < 7000        (Unsatisfactory.csv)"
   ]
  },
  {
   "cell_type": "code",
   "execution_count": 74,
   "metadata": {},
   "outputs": [],
   "source": [
    "\n",
    "newdf.loc[(newdf['CodeKata Score'] >= 15000)].to_csv('Exceeded Expectations.csv', index=False)\n",
    "newdf.loc[(newdf['CodeKata Score'] >= 10000) & (newdf['CodeKata Score'] < 15000)].to_csv('Reached_expectations.csv', index=False)\n",
    "newdf.loc[(newdf['CodeKata Score'] >= 7000) & (newdf['CodeKata Score'] < 10000)].to_csv('Needs_Improvement.csv', index=False)\n",
    "newdf.loc[(newdf['CodeKata Score'] <7000)].to_csv('Unsatisfactory.csv', index=False)\n",
    "#print(pd.read_csv(\"Exceeded Expectations.csv\"))\n",
    "#print(pd.read_csv(\"Reached_expectations.csv\"))\n",
    "#print(pd.read_csv(\"Needs_Improvement.csv\"))\n",
    "#print(pd.read_csv(\"Unsatisfactory.csv\"))"
   ]
  },
  {
   "cell_type": "markdown",
   "metadata": {},
   "source": [
    "###### Average of previous week geekions vs this week geekions (i.e Previous Geekions vs CodeKata Score)"
   ]
  },
  {
   "cell_type": "code",
   "execution_count": 80,
   "metadata": {},
   "outputs": [
    {
     "data": {
      "text/html": [
       "<div>\n",
       "<style scoped>\n",
       "    .dataframe tbody tr th:only-of-type {\n",
       "        vertical-align: middle;\n",
       "    }\n",
       "\n",
       "    .dataframe tbody tr th {\n",
       "        vertical-align: top;\n",
       "    }\n",
       "\n",
       "    .dataframe thead th {\n",
       "        text-align: right;\n",
       "    }\n",
       "</style>\n",
       "<table border=\"1\" class=\"dataframe\">\n",
       "  <thead>\n",
       "    <tr style=\"text-align: right;\">\n",
       "      <th></th>\n",
       "      <th>Name</th>\n",
       "      <th>python</th>\n",
       "      <th>mysql</th>\n",
       "      <th>Previous Geekions</th>\n",
       "      <th>CodeKata Score</th>\n",
       "      <th>Department</th>\n",
       "      <th>Rising</th>\n",
       "      <th>python_en</th>\n",
       "      <th>computational_thinking</th>\n",
       "      <th>average_geek_codekata</th>\n",
       "    </tr>\n",
       "  </thead>\n",
       "  <tbody>\n",
       "    <tr>\n",
       "      <th>0</th>\n",
       "      <td>A.Dharani</td>\n",
       "      <td>82.0</td>\n",
       "      <td>20.0</td>\n",
       "      <td>24500</td>\n",
       "      <td>24500</td>\n",
       "      <td>Computer Science and Engineering</td>\n",
       "      <td>0</td>\n",
       "      <td>NaN</td>\n",
       "      <td>NaN</td>\n",
       "      <td>24500.0</td>\n",
       "    </tr>\n",
       "    <tr>\n",
       "      <th>1</th>\n",
       "      <td>V.JEEVITHA</td>\n",
       "      <td>82.0</td>\n",
       "      <td>20.0</td>\n",
       "      <td>21740</td>\n",
       "      <td>21740</td>\n",
       "      <td>Computer Science and Engineering</td>\n",
       "      <td>0</td>\n",
       "      <td>NaN</td>\n",
       "      <td>NaN</td>\n",
       "      <td>21740.0</td>\n",
       "    </tr>\n",
       "    <tr>\n",
       "      <th>2</th>\n",
       "      <td>HEMAVATHI.R</td>\n",
       "      <td>100.0</td>\n",
       "      <td>100.0</td>\n",
       "      <td>19680</td>\n",
       "      <td>19680</td>\n",
       "      <td>Computer Science and Engineering</td>\n",
       "      <td>0</td>\n",
       "      <td>NaN</td>\n",
       "      <td>NaN</td>\n",
       "      <td>19680.0</td>\n",
       "    </tr>\n",
       "    <tr>\n",
       "      <th>3</th>\n",
       "      <td>Mugunthan S</td>\n",
       "      <td>100.0</td>\n",
       "      <td>47.0</td>\n",
       "      <td>10610</td>\n",
       "      <td>10610</td>\n",
       "      <td>Computer Science and Engineering</td>\n",
       "      <td>0</td>\n",
       "      <td>NaN</td>\n",
       "      <td>NaN</td>\n",
       "      <td>10610.0</td>\n",
       "    </tr>\n",
       "    <tr>\n",
       "      <th>4</th>\n",
       "      <td>Sathammai.S</td>\n",
       "      <td>100.0</td>\n",
       "      <td>8.0</td>\n",
       "      <td>8980</td>\n",
       "      <td>8980</td>\n",
       "      <td>Computer Science and Engineering</td>\n",
       "      <td>0</td>\n",
       "      <td>NaN</td>\n",
       "      <td>NaN</td>\n",
       "      <td>8980.0</td>\n",
       "    </tr>\n",
       "  </tbody>\n",
       "</table>\n",
       "</div>"
      ],
      "text/plain": [
       "          Name  python  mysql  Previous Geekions  CodeKata Score  \\\n",
       "0    A.Dharani    82.0   20.0              24500           24500   \n",
       "1  V.JEEVITHA     82.0   20.0              21740           21740   \n",
       "2  HEMAVATHI.R   100.0  100.0              19680           19680   \n",
       "3  Mugunthan S   100.0   47.0              10610           10610   \n",
       "4  Sathammai.S   100.0    8.0               8980            8980   \n",
       "\n",
       "                         Department  Rising  python_en  \\\n",
       "0  Computer Science and Engineering       0        NaN   \n",
       "1  Computer Science and Engineering       0        NaN   \n",
       "2  Computer Science and Engineering       0        NaN   \n",
       "3  Computer Science and Engineering       0        NaN   \n",
       "4  Computer Science and Engineering       0        NaN   \n",
       "\n",
       "   computational_thinking  average_geek_codekata  \n",
       "0                     NaN                24500.0  \n",
       "1                     NaN                21740.0  \n",
       "2                     NaN                19680.0  \n",
       "3                     NaN                10610.0  \n",
       "4                     NaN                 8980.0  "
      ]
     },
     "execution_count": 80,
     "metadata": {},
     "output_type": "execute_result"
    }
   ],
   "source": [
    "newdf['average_geek_codekata'] = newdf[['Previous Geekions', 'CodeKata Score']].mean(axis=1)\n",
    "newdf.head()"
   ]
  },
  {
   "cell_type": "markdown",
   "metadata": {},
   "source": [
    "###### No of students participated "
   ]
  },
  {
   "cell_type": "code",
   "execution_count": 78,
   "metadata": {},
   "outputs": [
    {
     "name": "stdout",
     "output_type": "stream",
     "text": [
      "119\n"
     ]
    }
   ],
   "source": [
    "print(len(newdf.Name.unique()))"
   ]
  },
  {
   "cell_type": "markdown",
   "metadata": {},
   "source": [
    "###### #Average completion of python course or my_sql or python english or computational thinking"
   ]
  },
  {
   "cell_type": "code",
   "execution_count": 81,
   "metadata": {},
   "outputs": [
    {
     "data": {
      "text/html": [
       "<div>\n",
       "<style scoped>\n",
       "    .dataframe tbody tr th:only-of-type {\n",
       "        vertical-align: middle;\n",
       "    }\n",
       "\n",
       "    .dataframe tbody tr th {\n",
       "        vertical-align: top;\n",
       "    }\n",
       "\n",
       "    .dataframe thead th {\n",
       "        text-align: right;\n",
       "    }\n",
       "</style>\n",
       "<table border=\"1\" class=\"dataframe\">\n",
       "  <thead>\n",
       "    <tr style=\"text-align: right;\">\n",
       "      <th></th>\n",
       "      <th>Name</th>\n",
       "      <th>python</th>\n",
       "      <th>mysql</th>\n",
       "      <th>Previous Geekions</th>\n",
       "      <th>CodeKata Score</th>\n",
       "      <th>Department</th>\n",
       "      <th>Rising</th>\n",
       "      <th>python_en</th>\n",
       "      <th>computational_thinking</th>\n",
       "      <th>average_geek_codekata</th>\n",
       "      <th>average_completion</th>\n",
       "    </tr>\n",
       "  </thead>\n",
       "  <tbody>\n",
       "    <tr>\n",
       "      <th>0</th>\n",
       "      <td>A.Dharani</td>\n",
       "      <td>82.0</td>\n",
       "      <td>20.0</td>\n",
       "      <td>24500</td>\n",
       "      <td>24500</td>\n",
       "      <td>Computer Science and Engineering</td>\n",
       "      <td>0</td>\n",
       "      <td>NaN</td>\n",
       "      <td>NaN</td>\n",
       "      <td>24500.0</td>\n",
       "      <td>51.0</td>\n",
       "    </tr>\n",
       "    <tr>\n",
       "      <th>1</th>\n",
       "      <td>V.JEEVITHA</td>\n",
       "      <td>82.0</td>\n",
       "      <td>20.0</td>\n",
       "      <td>21740</td>\n",
       "      <td>21740</td>\n",
       "      <td>Computer Science and Engineering</td>\n",
       "      <td>0</td>\n",
       "      <td>NaN</td>\n",
       "      <td>NaN</td>\n",
       "      <td>21740.0</td>\n",
       "      <td>51.0</td>\n",
       "    </tr>\n",
       "    <tr>\n",
       "      <th>2</th>\n",
       "      <td>HEMAVATHI.R</td>\n",
       "      <td>100.0</td>\n",
       "      <td>100.0</td>\n",
       "      <td>19680</td>\n",
       "      <td>19680</td>\n",
       "      <td>Computer Science and Engineering</td>\n",
       "      <td>0</td>\n",
       "      <td>NaN</td>\n",
       "      <td>NaN</td>\n",
       "      <td>19680.0</td>\n",
       "      <td>100.0</td>\n",
       "    </tr>\n",
       "    <tr>\n",
       "      <th>3</th>\n",
       "      <td>Mugunthan S</td>\n",
       "      <td>100.0</td>\n",
       "      <td>47.0</td>\n",
       "      <td>10610</td>\n",
       "      <td>10610</td>\n",
       "      <td>Computer Science and Engineering</td>\n",
       "      <td>0</td>\n",
       "      <td>NaN</td>\n",
       "      <td>NaN</td>\n",
       "      <td>10610.0</td>\n",
       "      <td>73.5</td>\n",
       "    </tr>\n",
       "    <tr>\n",
       "      <th>4</th>\n",
       "      <td>Sathammai.S</td>\n",
       "      <td>100.0</td>\n",
       "      <td>8.0</td>\n",
       "      <td>8980</td>\n",
       "      <td>8980</td>\n",
       "      <td>Computer Science and Engineering</td>\n",
       "      <td>0</td>\n",
       "      <td>NaN</td>\n",
       "      <td>NaN</td>\n",
       "      <td>8980.0</td>\n",
       "      <td>54.0</td>\n",
       "    </tr>\n",
       "  </tbody>\n",
       "</table>\n",
       "</div>"
      ],
      "text/plain": [
       "          Name  python  mysql  Previous Geekions  CodeKata Score  \\\n",
       "0    A.Dharani    82.0   20.0              24500           24500   \n",
       "1  V.JEEVITHA     82.0   20.0              21740           21740   \n",
       "2  HEMAVATHI.R   100.0  100.0              19680           19680   \n",
       "3  Mugunthan S   100.0   47.0              10610           10610   \n",
       "4  Sathammai.S   100.0    8.0               8980            8980   \n",
       "\n",
       "                         Department  Rising  python_en  \\\n",
       "0  Computer Science and Engineering       0        NaN   \n",
       "1  Computer Science and Engineering       0        NaN   \n",
       "2  Computer Science and Engineering       0        NaN   \n",
       "3  Computer Science and Engineering       0        NaN   \n",
       "4  Computer Science and Engineering       0        NaN   \n",
       "\n",
       "   computational_thinking  average_geek_codekata  average_completion  \n",
       "0                     NaN                24500.0                51.0  \n",
       "1                     NaN                21740.0                51.0  \n",
       "2                     NaN                19680.0               100.0  \n",
       "3                     NaN                10610.0                73.5  \n",
       "4                     NaN                 8980.0                54.0  "
      ]
     },
     "execution_count": 81,
     "metadata": {},
     "output_type": "execute_result"
    }
   ],
   "source": [
    "newdf['average_completion'] = newdf[['python','mysql','python_en','computational_thinking']].mean(axis=1)\n",
    "newdf.head()"
   ]
  },
  {
   "cell_type": "markdown",
   "metadata": {},
   "source": [
    "###### rising star of the week (top 3 candidate who performed well in that particular week)"
   ]
  },
  {
   "cell_type": "code",
   "execution_count": 89,
   "metadata": {},
   "outputs": [
    {
     "data": {
      "text/html": [
       "<div>\n",
       "<style scoped>\n",
       "    .dataframe tbody tr th:only-of-type {\n",
       "        vertical-align: middle;\n",
       "    }\n",
       "\n",
       "    .dataframe tbody tr th {\n",
       "        vertical-align: top;\n",
       "    }\n",
       "\n",
       "    .dataframe thead th {\n",
       "        text-align: right;\n",
       "    }\n",
       "</style>\n",
       "<table border=\"1\" class=\"dataframe\">\n",
       "  <thead>\n",
       "    <tr style=\"text-align: right;\">\n",
       "      <th></th>\n",
       "      <th>Name</th>\n",
       "      <th>python</th>\n",
       "      <th>mysql</th>\n",
       "      <th>Previous Geekions</th>\n",
       "      <th>CodeKata Score</th>\n",
       "      <th>Department</th>\n",
       "      <th>Rising</th>\n",
       "      <th>python_en</th>\n",
       "      <th>computational_thinking</th>\n",
       "      <th>average_completion</th>\n",
       "    </tr>\n",
       "  </thead>\n",
       "  <tbody>\n",
       "    <tr>\n",
       "      <th>2</th>\n",
       "      <td>HEMAVATHI.R</td>\n",
       "      <td>100.0</td>\n",
       "      <td>100.0</td>\n",
       "      <td>19680</td>\n",
       "      <td>19680</td>\n",
       "      <td>Computer Science and Engineering</td>\n",
       "      <td>0</td>\n",
       "      <td>NaN</td>\n",
       "      <td>NaN</td>\n",
       "      <td>100.0</td>\n",
       "    </tr>\n",
       "    <tr>\n",
       "      <th>15</th>\n",
       "      <td>Pavithra</td>\n",
       "      <td>100.0</td>\n",
       "      <td>100.0</td>\n",
       "      <td>4600</td>\n",
       "      <td>4600</td>\n",
       "      <td>Computer Science and Engineering</td>\n",
       "      <td>0</td>\n",
       "      <td>NaN</td>\n",
       "      <td>NaN</td>\n",
       "      <td>100.0</td>\n",
       "    </tr>\n",
       "    <tr>\n",
       "      <th>22</th>\n",
       "      <td>Yuvasri</td>\n",
       "      <td>100.0</td>\n",
       "      <td>100.0</td>\n",
       "      <td>3460</td>\n",
       "      <td>3460</td>\n",
       "      <td>Computer Science and Engineering</td>\n",
       "      <td>0</td>\n",
       "      <td>NaN</td>\n",
       "      <td>NaN</td>\n",
       "      <td>100.0</td>\n",
       "    </tr>\n",
       "  </tbody>\n",
       "</table>\n",
       "</div>"
      ],
      "text/plain": [
       "           Name  python  mysql  Previous Geekions  CodeKata Score  \\\n",
       "2   HEMAVATHI.R   100.0  100.0              19680           19680   \n",
       "15     Pavithra   100.0  100.0               4600            4600   \n",
       "22      Yuvasri   100.0  100.0               3460            3460   \n",
       "\n",
       "                          Department  Rising  python_en  \\\n",
       "2   Computer Science and Engineering       0        NaN   \n",
       "15  Computer Science and Engineering       0        NaN   \n",
       "22  Computer Science and Engineering       0        NaN   \n",
       "\n",
       "    computational_thinking  average_completion  \n",
       "2                      NaN               100.0  \n",
       "15                     NaN               100.0  \n",
       "22                     NaN               100.0  "
      ]
     },
     "execution_count": 89,
     "metadata": {},
     "output_type": "execute_result"
    }
   ],
   "source": [
    "newdf['average_completion'] = newdf[['python','mysql','python_en','computational_thinking']].mean(axis=1)               \n",
    "newdf.nlargest(3,\"average_completion\")\n",
    "    "
   ]
  },
  {
   "cell_type": "markdown",
   "metadata": {},
   "source": [
    "###### Shining stars of the week (top 3 candidates who has highest geekions)"
   ]
  },
  {
   "cell_type": "code",
   "execution_count": 93,
   "metadata": {},
   "outputs": [
    {
     "data": {
      "text/html": [
       "<div>\n",
       "<style scoped>\n",
       "    .dataframe tbody tr th:only-of-type {\n",
       "        vertical-align: middle;\n",
       "    }\n",
       "\n",
       "    .dataframe tbody tr th {\n",
       "        vertical-align: top;\n",
       "    }\n",
       "\n",
       "    .dataframe thead th {\n",
       "        text-align: right;\n",
       "    }\n",
       "</style>\n",
       "<table border=\"1\" class=\"dataframe\">\n",
       "  <thead>\n",
       "    <tr style=\"text-align: right;\">\n",
       "      <th></th>\n",
       "      <th>Name</th>\n",
       "      <th>python</th>\n",
       "      <th>mysql</th>\n",
       "      <th>Previous Geekions</th>\n",
       "      <th>CodeKata Score</th>\n",
       "      <th>Department</th>\n",
       "      <th>Rising</th>\n",
       "      <th>python_en</th>\n",
       "      <th>computational_thinking</th>\n",
       "      <th>average_completion</th>\n",
       "      <th>average_geek_codekata</th>\n",
       "    </tr>\n",
       "  </thead>\n",
       "  <tbody>\n",
       "    <tr>\n",
       "      <th>0</th>\n",
       "      <td>A.Dharani</td>\n",
       "      <td>82.0</td>\n",
       "      <td>20.0</td>\n",
       "      <td>24500</td>\n",
       "      <td>24500</td>\n",
       "      <td>Computer Science and Engineering</td>\n",
       "      <td>0</td>\n",
       "      <td>NaN</td>\n",
       "      <td>NaN</td>\n",
       "      <td>51.0</td>\n",
       "      <td>24500.0</td>\n",
       "    </tr>\n",
       "    <tr>\n",
       "      <th>1</th>\n",
       "      <td>V.JEEVITHA</td>\n",
       "      <td>82.0</td>\n",
       "      <td>20.0</td>\n",
       "      <td>21740</td>\n",
       "      <td>21740</td>\n",
       "      <td>Computer Science and Engineering</td>\n",
       "      <td>0</td>\n",
       "      <td>NaN</td>\n",
       "      <td>NaN</td>\n",
       "      <td>51.0</td>\n",
       "      <td>21740.0</td>\n",
       "    </tr>\n",
       "    <tr>\n",
       "      <th>2</th>\n",
       "      <td>HEMAVATHI.R</td>\n",
       "      <td>100.0</td>\n",
       "      <td>100.0</td>\n",
       "      <td>19680</td>\n",
       "      <td>19680</td>\n",
       "      <td>Computer Science and Engineering</td>\n",
       "      <td>0</td>\n",
       "      <td>NaN</td>\n",
       "      <td>NaN</td>\n",
       "      <td>100.0</td>\n",
       "      <td>19680.0</td>\n",
       "    </tr>\n",
       "  </tbody>\n",
       "</table>\n",
       "</div>"
      ],
      "text/plain": [
       "          Name  python  mysql  Previous Geekions  CodeKata Score  \\\n",
       "0    A.Dharani    82.0   20.0              24500           24500   \n",
       "1  V.JEEVITHA     82.0   20.0              21740           21740   \n",
       "2  HEMAVATHI.R   100.0  100.0              19680           19680   \n",
       "\n",
       "                         Department  Rising  python_en  \\\n",
       "0  Computer Science and Engineering       0        NaN   \n",
       "1  Computer Science and Engineering       0        NaN   \n",
       "2  Computer Science and Engineering       0        NaN   \n",
       "\n",
       "   computational_thinking  average_completion  average_geek_codekata  \n",
       "0                     NaN                51.0                24500.0  \n",
       "1                     NaN                51.0                21740.0  \n",
       "2                     NaN               100.0                19680.0  "
      ]
     },
     "execution_count": 93,
     "metadata": {},
     "output_type": "execute_result"
    }
   ],
   "source": [
    "newdf['average_geek_codekata'] = newdf[['Previous Geekions', 'CodeKata Score']].mean(axis=1)\n",
    "newdf.nlargest(3,\"average_geek_codekata\")\n",
    "#newdf.nlargest(3,\"CodeKata Score\")"
   ]
  },
  {
   "cell_type": "markdown",
   "metadata": {},
   "source": [
    "###### Department wise codekata performence (pie chart)"
   ]
  },
  {
   "cell_type": "code",
   "execution_count": 115,
   "metadata": {},
   "outputs": [
    {
     "data": {
      "text/plain": [
       "array([<AxesSubplot:ylabel='average_geek_codekata'>], dtype=object)"
      ]
     },
     "execution_count": 115,
     "metadata": {},
     "output_type": "execute_result"
    },
    {
     "data": {
      "image/png": "[encoded data removed]",
      "text/plain": [
       "<Figure size 1080x720 with 1 Axes>"
      ]
     },
     "metadata": {},
     "output_type": "display_data"
    }
   ],
   "source": [
    "newdf['average_geek_codekata'] = newdf[['Previous Geekions', 'CodeKata Score']].mean(axis=1)\n",
    "newdf.groupby('Department')['average_geek_codekata'].agg('mean').plot(kind='pie', subplots=True, shadow = True,startangle=180,\n",
    "figsize=(15,10), autopct='%1.1f%%')"
   ]
  },
  {
   "cell_type": "markdown",
   "metadata": {},
   "source": [
    "###### Department wise toppers (horizantal bar graph or any visual representations of your choice)"
   ]
  },
  {
   "cell_type": "code",
   "execution_count": 163,
   "metadata": {},
   "outputs": [
    {
     "data": {
      "text/plain": [
       "(array([0, 1, 2, 3, 4, 5, 6, 7, 8]),\n",
       " [Text(0, 0, '(Computer Science and Engineering, 2)'),\n",
       "  Text(1, 0, '(Computer Science and Engineering, 15)'),\n",
       "  Text(2, 0, '(Computer Science and Engineering, 22)'),\n",
       "  Text(3, 0, '(Electronics and Communication Engineering, 6)'),\n",
       "  Text(4, 0, '(Electronics and Communication Engineering, 25)'),\n",
       "  Text(5, 0, '(Electronics and Communication Engineering, 17)'),\n",
       "  Text(6, 0, '(Electronics and Electrical Engineering, 64)'),\n",
       "  Text(7, 0, '(Electronics and Electrical Engineering, 77)'),\n",
       "  Text(8, 0, '(Electronics and Electrical Engineering, 74)')])"
      ]
     },
     "execution_count": 163,
     "metadata": {},
     "output_type": "execute_result"
    },
    {
     "data": {
      "image/png": "[encoded data removed]",
      "text/plain": [
       "<Figure size 1440x720 with 1 Axes>"
      ]
     },
     "metadata": {
      "needs_background": "light"
     },
     "output_type": "display_data"
    }
   ],
   "source": [
    "newdf['average_completion'] = newdf[['python','mysql','python_en','computational_thinking']].mean(axis=1) \n",
    "newdf_groups=newdf.groupby('Department')['average_completion'].nlargest(3)\n",
    "import seaborn as sb\n",
    "#create bar plot with custom aesthetics\n",
    "newdf_groups.plot(kind='bar', title='Department wise 3 topper',\n",
    "               ylabel='Score', figsize=(20, 10))\n",
    "#plt.tight_layout()\n",
    "#rotate x-axis ticks vertically\n",
    "plt.xticks(rotation=15)"
   ]
  },
  {
   "cell_type": "code",
   "execution_count": null,
   "metadata": {},
   "outputs": [],
   "source": []
  },
  {
   "cell_type": "code",
   "execution_count": null,
   "metadata": {},
   "outputs": [],
   "source": []
  },
  {
   "cell_type": "code",
   "execution_count": null,
   "metadata": {},
   "outputs": [],
   "source": []
  }
 ],
 "metadata": {
  "kernelspec": {
   "display_name": "Python 3 (ipykernel)",
   "language": "python",
   "name": "python3"
  },
  "language_info": {
   "codemirror_mode": {
    "name": "ipython",
    "version": 3
   },
   "file_extension": ".py",
   "mimetype": "text/x-python",
   "name": "python",
   "nbconvert_exporter": "python",
   "pygments_lexer": "ipython3",
   "version": "3.9.7"
  }
 },
 "nbformat": 4,
 "nbformat_minor": 2
}
